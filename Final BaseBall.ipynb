{
 "cells": [
  {
   "cell_type": "code",
   "execution_count": null,
   "id": "41e2cc84",
   "metadata": {},
   "outputs": [],
   "source": [
    "import pandas as pd\n",
    "import numpy as np\n",
    "import matplotlib.pyplot as plt\n",
    "import seaborn as sns\n",
    "import pickle\n",
    "from sklearn.linear_model import LinearRegression\n",
    "from sklearn.model_selection import train_test_split\n",
    "from sklearn.preprocessing import StandardScaler\n",
    "from sklearn.model_selection import train_test_split\n",
    "from statsmodels.stats.outliers_influence import variance_inflation_factor\n",
    "from sklearn.metrics import accuracy_score, confusion_matrix,roc_curve,roc_auc_score\n",
    "from scipy.stats import zscore\n",
    "from sklearn.preprocessing import StandardScaler\n",
    "import statsmodels.api as sm\n",
    "from sklearn.metrics import mean_squared_error,mean_absolute_error\n",
    "from sklearn.linear_model import Ridge,Lasso,RidgeCV,LassoCV\n",
    "import warnings\n",
    "warnings.filterwarnings('ignore')\n",
    "from sklearn.preprocessing import PowerTransformer\n",
    "from scipy.stats import skew"
   ]
  },
  {
   "cell_type": "code",
   "execution_count": null,
   "id": "ca11b63c",
   "metadata": {},
   "outputs": [],
   "source": [
    "df=pd.read_csv(r\"https://raw.githubusercontent.com/dsrscientist/Data-Science-ML-Capstone-Projects/master/baseball.csv\")"
   ]
  },
  {
   "cell_type": "code",
   "execution_count": null,
   "id": "3c272832",
   "metadata": {},
   "outputs": [],
   "source": [
    "df"
   ]
  },
  {
   "cell_type": "code",
   "execution_count": null,
   "id": "be9bfd63",
   "metadata": {},
   "outputs": [],
   "source": [
    "df.rename(columns={'W':'Predicted Wins','R':'Runs','AB':'At Bats','H':'Hits','2B':'Doubles','3B':'Triples','HR':'Homeruns','BB':'Walks','SO':'Strikeouts','SB':'Stolen Bases','RA':'Runs Allowed','ER':'Earned Runs','ERA':'Earned Run Average', 'CG':'Compelete Games','SHO':'Shutouts','SV':'Saves', 'E':'Error'},inplace=True)"
   ]
  },
  {
   "cell_type": "code",
   "execution_count": null,
   "id": "c269f0a0",
   "metadata": {},
   "outputs": [],
   "source": [
    "df"
   ]
  },
  {
   "cell_type": "code",
   "execution_count": null,
   "id": "958a7c37",
   "metadata": {
    "scrolled": true
   },
   "outputs": [],
   "source": [
    "df.columns"
   ]
  },
  {
   "cell_type": "code",
   "execution_count": null,
   "id": "c8f5db5d",
   "metadata": {
    "scrolled": true
   },
   "outputs": [],
   "source": [
    "df.describe()"
   ]
  },
  {
   "cell_type": "code",
   "execution_count": null,
   "id": "3993e872",
   "metadata": {
    "scrolled": true
   },
   "outputs": [],
   "source": [
    "df.info()"
   ]
  },
  {
   "cell_type": "code",
   "execution_count": null,
   "id": "5f9182f4",
   "metadata": {
    "scrolled": true
   },
   "outputs": [],
   "source": [
    "df.isnull().sum()"
   ]
  },
  {
   "cell_type": "code",
   "execution_count": null,
   "id": "12647a77",
   "metadata": {
    "scrolled": true
   },
   "outputs": [],
   "source": [
    "sns.pairplot(df)"
   ]
  },
  {
   "cell_type": "code",
   "execution_count": null,
   "id": "d4e79fca",
   "metadata": {},
   "outputs": [],
   "source": [
    "df.plot(kind='box',subplots=True,layout=(5,4),figsize=(25,25))"
   ]
  },
  {
   "cell_type": "code",
   "execution_count": null,
   "id": "df5d44fe",
   "metadata": {},
   "outputs": [],
   "source": [
    "X=df.drop(columns=\"Predicted Wins\")\n",
    "Y=df[\"Predicted Wins\"]"
   ]
  },
  {
   "cell_type": "code",
   "execution_count": null,
   "id": "1736f679",
   "metadata": {},
   "outputs": [],
   "source": [
    "plt.figure(figsize=(20,30))\n",
    "pltnumber=1\n",
    "\n",
    "for column in X:\n",
    "    if pltnumber<=15:\n",
    "        ax=plt.subplot(5,3,pltnumber)\n",
    "        plt.scatter(X[column],Y)\n",
    "        plt.xlabel(column,fontsize=20)\n",
    "        plt.ylabel('Predicted Wins',fontsize=20)\n",
    "    pltnumber+=1\n",
    "plt.tight_layout()"
   ]
  },
  {
   "cell_type": "code",
   "execution_count": null,
   "id": "8e703d7f",
   "metadata": {},
   "outputs": [],
   "source": [
    "for col in df:\n",
    "    print(skew(df[col]))\n",
    "    plt.figure()\n",
    "    sns.distplot(df[col])\n",
    "    plt.show"
   ]
  },
  {
   "cell_type": "code",
   "execution_count": null,
   "id": "0912a2ee",
   "metadata": {},
   "outputs": [],
   "source": [
    "df[\"Runs\"]=np.sqrt(df[\"Runs\"])\n",
    "df.skew()"
   ]
  },
  {
   "cell_type": "code",
   "execution_count": null,
   "id": "204dbafb",
   "metadata": {},
   "outputs": [],
   "source": [
    "df_corr=df.corr().abs()\n",
    "df_corr\n",
    "plt.figure(figsize=(25,30))\n",
    "sns.heatmap(df_corr,annot=True)\n",
    "plt.show()\n"
   ]
  },
  {
   "cell_type": "code",
   "execution_count": null,
   "id": "acc56c2c",
   "metadata": {},
   "outputs": [],
   "source": [
    "from sklearn.feature_selection import SelectPercentile\n",
    "from sklearn.feature_selection import chi2"
   ]
  },
  {
   "cell_type": "code",
   "execution_count": null,
   "id": "fae0cdae",
   "metadata": {},
   "outputs": [],
   "source": [
    "Spercentile=SelectPercentile(score_func=chi2,percentile=80)\n",
    "Spercentile=Spercentile.fit(X,Y)\n",
    "cols=Spercentile.get_support(indices=True)\n",
    "feature=X.columns[cols]\n",
    "df_scores=pd.DataFrame({'Features':X.columns,'Chi2Score':Spercentile.scores_,'pvalues':Spercentile.pvalues_})\n",
    "df_scores.sort_values(by='Chi2Score',ascending=False)\n",
    "print(cols)\n",
    "print(feature)"
   ]
  },
  {
   "cell_type": "code",
   "execution_count": null,
   "id": "203aff2c",
   "metadata": {},
   "outputs": [],
   "source": [
    "df=df.drop([\"At Bats\",\"Doubles\",\"Earned Run Average\",\"Shutouts\"],axis=1)"
   ]
  },
  {
   "cell_type": "code",
   "execution_count": null,
   "id": "b6b1ee14",
   "metadata": {},
   "outputs": [],
   "source": [
    "df"
   ]
  },
  {
   "cell_type": "markdown",
   "id": "a7759315",
   "metadata": {},
   "source": [
    "# Model Training Using Linear Regression Without HyperParamter Tuning"
   ]
  },
  {
   "cell_type": "code",
   "execution_count": null,
   "id": "97d00d25",
   "metadata": {},
   "outputs": [],
   "source": [
    "X=df.drop(columns=\"Predicted Wins\")\n",
    "Y=df[\"Predicted Wins\"]"
   ]
  },
  {
   "cell_type": "code",
   "execution_count": null,
   "id": "a3f007dc",
   "metadata": {},
   "outputs": [],
   "source": [
    "scaler=StandardScaler()\n",
    "X_scaled=scaler.fit_transform(X)"
   ]
  },
  {
   "cell_type": "code",
   "execution_count": null,
   "id": "217feb2b",
   "metadata": {},
   "outputs": [],
   "source": [
    "X_train,X_test,Y_train,Y_test=train_test_split(X_scaled,Y,test_size=0.25,random_state=21)"
   ]
  },
  {
   "cell_type": "code",
   "execution_count": null,
   "id": "b9b6b037",
   "metadata": {},
   "outputs": [],
   "source": [
    "lm=LinearRegression()\n",
    "lm.fit(X_train,Y_train)"
   ]
  },
  {
   "cell_type": "code",
   "execution_count": null,
   "id": "fca9e016",
   "metadata": {},
   "outputs": [],
   "source": [
    "Y_pred=lm.predict(X_test)\n",
    "Y_pred_train=lm.predict(X_train)"
   ]
  },
  {
   "cell_type": "code",
   "execution_count": null,
   "id": "573bde94",
   "metadata": {},
   "outputs": [],
   "source": [
    "lm.score(X_train,Y_train)\n",
    "lm.score(X_test,Y_test)"
   ]
  },
  {
   "cell_type": "code",
   "execution_count": null,
   "id": "7136a0b8",
   "metadata": {},
   "outputs": [],
   "source": [
    "import statsmodels.formula.api as smf"
   ]
  },
  {
   "cell_type": "code",
   "execution_count": null,
   "id": "47df04fd",
   "metadata": {},
   "outputs": [],
   "source": [
    "est=smf.ols(formula='Y~X',data=df).fit()\n",
    "est.summary()"
   ]
  },
  {
   "cell_type": "code",
   "execution_count": null,
   "id": "24dfae58",
   "metadata": {},
   "outputs": [],
   "source": [
    "from sklearn.metrics import r2_score"
   ]
  },
  {
   "cell_type": "code",
   "execution_count": null,
   "id": "6dc88f53",
   "metadata": {},
   "outputs": [],
   "source": [
    "r2=r2_score(Y_test,Y_pred)"
   ]
  },
  {
   "cell_type": "code",
   "execution_count": null,
   "id": "35e3cd5d",
   "metadata": {},
   "outputs": [],
   "source": [
    "r2"
   ]
  },
  {
   "cell_type": "code",
   "execution_count": null,
   "id": "edbc2f02",
   "metadata": {},
   "outputs": [],
   "source": [
    "from sklearn.model_selection import cross_val_score"
   ]
  },
  {
   "cell_type": "code",
   "execution_count": null,
   "id": "c38a4043",
   "metadata": {
    "scrolled": true
   },
   "outputs": [],
   "source": [
    "cross_val=cross_val_score(lm,X_train,Y_train,scoring=\"r2\",cv=5)\n",
    "cross_val"
   ]
  },
  {
   "cell_type": "code",
   "execution_count": null,
   "id": "6b252b94",
   "metadata": {},
   "outputs": [],
   "source": [
    "cross_val.mean()"
   ]
  },
  {
   "cell_type": "code",
   "execution_count": null,
   "id": "8dc28b7c",
   "metadata": {},
   "outputs": [],
   "source": [
    "mean_absolute_error(Y_test,Y_pred)\n"
   ]
  },
  {
   "cell_type": "code",
   "execution_count": null,
   "id": "86f04666",
   "metadata": {},
   "outputs": [],
   "source": [
    "mean_squared_error(Y_test,Y_pred)"
   ]
  },
  {
   "cell_type": "code",
   "execution_count": null,
   "id": "e7727287",
   "metadata": {},
   "outputs": [],
   "source": [
    "np.sqrt(mean_squared_error(Y_test,Y_pred))"
   ]
  },
  {
   "cell_type": "code",
   "execution_count": null,
   "id": "7d80ceba",
   "metadata": {},
   "outputs": [],
   "source": [
    "plt.scatter(Y_test,Y_pred)\n",
    "plt.xlabel('actual data')\n",
    "plt.ylabel('predicted data')\n",
    "plt.show()"
   ]
  },
  {
   "cell_type": "markdown",
   "id": "0d1dbb3b",
   "metadata": {},
   "source": [
    "# Model Training Using Linear Regression With HyperParamter Tuning"
   ]
  },
  {
   "cell_type": "code",
   "execution_count": null,
   "id": "91e785fd",
   "metadata": {},
   "outputs": [],
   "source": [
    "from sklearn.model_selection import GridSearchCV"
   ]
  },
  {
   "cell_type": "code",
   "execution_count": null,
   "id": "f4d8fe9a",
   "metadata": {},
   "outputs": [],
   "source": [
    "ridge=Ridge()"
   ]
  },
  {
   "cell_type": "code",
   "execution_count": null,
   "id": "b8ece8a2",
   "metadata": {},
   "outputs": [],
   "source": [
    "parameters={\"alpha\":[1e-15,1e-10,1e-8,1e-3,1e-2,1,5,10,20,30,35,40,45,50,55,100]}\n",
    "ridge_regressor=GridSearchCV(ridge,parameters,scoring=\"r2\",cv=5)"
   ]
  },
  {
   "cell_type": "code",
   "execution_count": null,
   "id": "e39ad1b3",
   "metadata": {},
   "outputs": [],
   "source": [
    "ridge_regressor.fit(X_train,Y_train)"
   ]
  },
  {
   "cell_type": "code",
   "execution_count": null,
   "id": "7fdbac60",
   "metadata": {},
   "outputs": [],
   "source": [
    "print(ridge_regressor.best_params_)\n"
   ]
  },
  {
   "cell_type": "code",
   "execution_count": null,
   "id": "f97f751c",
   "metadata": {},
   "outputs": [],
   "source": [
    "print(ridge_regressor.best_score_)"
   ]
  },
  {
   "cell_type": "code",
   "execution_count": null,
   "id": "c67a141c",
   "metadata": {},
   "outputs": [],
   "source": [
    "prediction_ridge=ridge_regressor.predict(X_test)\n",
    "prediction_ridge"
   ]
  },
  {
   "cell_type": "code",
   "execution_count": null,
   "id": "1b5740b1",
   "metadata": {},
   "outputs": [],
   "source": [
    "ridge_regressor.score(X_test,Y_test)"
   ]
  },
  {
   "cell_type": "code",
   "execution_count": null,
   "id": "e3c5e9e7",
   "metadata": {},
   "outputs": [],
   "source": [
    "y_pred=ridge_regressor.predict(X_test)"
   ]
  },
  {
   "cell_type": "code",
   "execution_count": null,
   "id": "f6fbfed8",
   "metadata": {},
   "outputs": [],
   "source": [
    "r2=r2_score(Y_test,y_pred)"
   ]
  },
  {
   "cell_type": "code",
   "execution_count": null,
   "id": "8be0caee",
   "metadata": {},
   "outputs": [],
   "source": [
    "r2"
   ]
  },
  {
   "cell_type": "code",
   "execution_count": null,
   "id": "2cd4f1fb",
   "metadata": {
    "scrolled": true
   },
   "outputs": [],
   "source": [
    "cross_val=cross_val_score(ridge_regressor,X_train,Y_train,scoring=\"r2\",cv=5)\n",
    "cross_val"
   ]
  },
  {
   "cell_type": "code",
   "execution_count": null,
   "id": "d6b394a4",
   "metadata": {},
   "outputs": [],
   "source": [
    "cross_val.mean()"
   ]
  },
  {
   "cell_type": "code",
   "execution_count": null,
   "id": "22a5e56b",
   "metadata": {},
   "outputs": [],
   "source": [
    "mean_absolute_error(Y_test,y_pred)\n"
   ]
  },
  {
   "cell_type": "code",
   "execution_count": null,
   "id": "34537a79",
   "metadata": {},
   "outputs": [],
   "source": [
    "mean_squared_error(Y_test,y_pred)"
   ]
  },
  {
   "cell_type": "code",
   "execution_count": null,
   "id": "e2ddf50a",
   "metadata": {},
   "outputs": [],
   "source": [
    "np.sqrt(mean_squared_error(Y_test,y_pred))"
   ]
  },
  {
   "cell_type": "code",
   "execution_count": null,
   "id": "05bb7abb",
   "metadata": {},
   "outputs": [],
   "source": [
    "plt.scatter(Y_test,y_pred)\n",
    "plt.xlabel('actual data')\n",
    "plt.ylabel('predicted data')\n",
    "plt.show()"
   ]
  },
  {
   "cell_type": "markdown",
   "id": "e42d3f1f",
   "metadata": {},
   "source": [
    "# Model Training Using KNN Without HyperParamter Tuning\n"
   ]
  },
  {
   "cell_type": "code",
   "execution_count": null,
   "id": "f8eb823a",
   "metadata": {},
   "outputs": [],
   "source": [
    "X=df.drop(columns=\"Predicted Wins\")\n",
    "Y=df[\"Predicted Wins\"]"
   ]
  },
  {
   "cell_type": "code",
   "execution_count": null,
   "id": "ca8ec5a9",
   "metadata": {},
   "outputs": [],
   "source": [
    "from sklearn.neighbors import KNeighborsRegressor"
   ]
  },
  {
   "cell_type": "code",
   "execution_count": null,
   "id": "a48490be",
   "metadata": {},
   "outputs": [],
   "source": [
    "scaler=StandardScaler()"
   ]
  },
  {
   "cell_type": "code",
   "execution_count": null,
   "id": "698e472f",
   "metadata": {},
   "outputs": [],
   "source": [
    "X_scaled=scaler.fit_transform(X)"
   ]
  },
  {
   "cell_type": "code",
   "execution_count": null,
   "id": "21fa2f23",
   "metadata": {},
   "outputs": [],
   "source": [
    "X_train,X_test,Y_train,Y_test=train_test_split(X_scaled,Y,test_size=0.25,random_state=21)"
   ]
  },
  {
   "cell_type": "code",
   "execution_count": null,
   "id": "dcb3856a",
   "metadata": {},
   "outputs": [],
   "source": [
    "knn=KNeighborsRegressor()"
   ]
  },
  {
   "cell_type": "code",
   "execution_count": null,
   "id": "acedd74f",
   "metadata": {},
   "outputs": [],
   "source": [
    "knn.fit(X_train,Y_train)"
   ]
  },
  {
   "cell_type": "code",
   "execution_count": null,
   "id": "4a75bffa",
   "metadata": {},
   "outputs": [],
   "source": [
    "Y_pred=knn.predict(X_test)"
   ]
  },
  {
   "cell_type": "code",
   "execution_count": null,
   "id": "de51460f",
   "metadata": {},
   "outputs": [],
   "source": [
    "knn.score(X_train,Y_train)"
   ]
  },
  {
   "cell_type": "code",
   "execution_count": null,
   "id": "3f47bf5a",
   "metadata": {},
   "outputs": [],
   "source": [
    "knn.score(X_test,Y_test)"
   ]
  },
  {
   "cell_type": "code",
   "execution_count": null,
   "id": "fec7e43b",
   "metadata": {},
   "outputs": [],
   "source": [
    "r2=r2_score(Y_test,Y_pred)\n",
    "r2"
   ]
  },
  {
   "cell_type": "code",
   "execution_count": null,
   "id": "a5d51717",
   "metadata": {},
   "outputs": [],
   "source": [
    "plt.scatter(Y_test,Y_pred)\n",
    "plt.xlabel('actual data')\n",
    "plt.ylabel('predicted data')\n",
    "plt.show()"
   ]
  },
  {
   "cell_type": "markdown",
   "id": "84e239a5",
   "metadata": {},
   "source": [
    "# KNN MODEL USING HYPERPARAMETER TUNING"
   ]
  },
  {
   "cell_type": "code",
   "execution_count": null,
   "id": "db4f0a55",
   "metadata": {},
   "outputs": [],
   "source": [
    "X=df.drop(columns=\"Predicted Wins\")\n",
    "Y=df[\"Predicted Wins\"]"
   ]
  },
  {
   "cell_type": "code",
   "execution_count": null,
   "id": "361ed7b9",
   "metadata": {},
   "outputs": [],
   "source": [
    "scaler=StandardScaler()"
   ]
  },
  {
   "cell_type": "code",
   "execution_count": null,
   "id": "200dcd31",
   "metadata": {},
   "outputs": [],
   "source": [
    "X_scaled=scaler.fit_transform(X)"
   ]
  },
  {
   "cell_type": "code",
   "execution_count": null,
   "id": "7bf5c6bd",
   "metadata": {},
   "outputs": [],
   "source": [
    "X_train,X_test,Y_train,Y_test=train_test_split(X_scaled,Y,test_size=0.25,random_state=21)"
   ]
  },
  {
   "cell_type": "code",
   "execution_count": null,
   "id": "bdc11491",
   "metadata": {},
   "outputs": [],
   "source": [
    "knn=KNeighborsRegressor()"
   ]
  },
  {
   "cell_type": "code",
   "execution_count": null,
   "id": "4090ef1d",
   "metadata": {},
   "outputs": [],
   "source": [
    "param_grid=[\n",
    "    {'algorithm':['kd_tree','brute','ball_tree'],\n",
    "    'leaf_size':[15,18,20],\n",
    "    'n_neighbors':[3,5,7,13]\n",
    "    }\n",
    "]"
   ]
  },
  {
   "cell_type": "code",
   "execution_count": null,
   "id": "11d23fbc",
   "metadata": {},
   "outputs": [],
   "source": [
    "clf=GridSearchCV(knn,param_grid,cv=3,n_jobs=-1)"
   ]
  },
  {
   "cell_type": "code",
   "execution_count": null,
   "id": "927806ff",
   "metadata": {},
   "outputs": [],
   "source": [
    "clf.fit(X_train,Y_train)"
   ]
  },
  {
   "cell_type": "code",
   "execution_count": null,
   "id": "7c78ba33",
   "metadata": {},
   "outputs": [],
   "source": [
    "clf.best_params_"
   ]
  },
  {
   "cell_type": "code",
   "execution_count": null,
   "id": "420232ee",
   "metadata": {},
   "outputs": [],
   "source": [
    "Y_pred=clf.predict(X_test)\n",
    "Y_pred_train=clf.predict(X_train)"
   ]
  },
  {
   "cell_type": "code",
   "execution_count": null,
   "id": "8dcc46c4",
   "metadata": {},
   "outputs": [],
   "source": [
    "clf.score(X_train,Y_train)"
   ]
  },
  {
   "cell_type": "code",
   "execution_count": null,
   "id": "4ddc3409",
   "metadata": {},
   "outputs": [],
   "source": [
    "clf.score(X_test,Y_test)"
   ]
  },
  {
   "cell_type": "code",
   "execution_count": null,
   "id": "311467ee",
   "metadata": {},
   "outputs": [],
   "source": [
    "r2=r2_score(Y_test,Y_pred)\n",
    "r2"
   ]
  },
  {
   "cell_type": "markdown",
   "id": "64749ee8",
   "metadata": {},
   "source": [
    "# DECISION TREE MODEL\n"
   ]
  },
  {
   "cell_type": "code",
   "execution_count": null,
   "id": "980f143b",
   "metadata": {},
   "outputs": [],
   "source": [
    "X=df.drop(columns=\"Predicted Wins\")\n",
    "Y=df[\"Predicted Wins\"]"
   ]
  },
  {
   "cell_type": "code",
   "execution_count": null,
   "id": "de68d069",
   "metadata": {},
   "outputs": [],
   "source": [
    "from sklearn.tree import DecisionTreeRegressor"
   ]
  },
  {
   "cell_type": "code",
   "execution_count": null,
   "id": "af9b48a5",
   "metadata": {},
   "outputs": [],
   "source": [
    "X_train,X_test,Y_train,Y_test=train_test_split(X,Y,test_size=0.25,random_state=21)"
   ]
  },
  {
   "cell_type": "code",
   "execution_count": null,
   "id": "4904f006",
   "metadata": {},
   "outputs": [],
   "source": [
    "dt=DecisionTreeRegressor()\n",
    "dt.fit(X_train,Y_train)"
   ]
  },
  {
   "cell_type": "code",
   "execution_count": null,
   "id": "896a2c89",
   "metadata": {},
   "outputs": [],
   "source": [
    "Y_pred=dt.predict(X_test)"
   ]
  },
  {
   "cell_type": "code",
   "execution_count": null,
   "id": "6f2ff75b",
   "metadata": {},
   "outputs": [],
   "source": [
    "r2=r2_score(Y_test,Y_pred)\n",
    "r2"
   ]
  },
  {
   "cell_type": "code",
   "execution_count": null,
   "id": "852e40e1",
   "metadata": {},
   "outputs": [],
   "source": [
    "plt.scatter(Y_test,Y_pred)\n",
    "plt.xlabel('actual data')\n",
    "plt.ylabel('predicted data')\n",
    "plt.show()"
   ]
  },
  {
   "cell_type": "markdown",
   "id": "04492f78",
   "metadata": {},
   "source": [
    "# DECISION TREE WITH HYPER PARAMETER TUNING"
   ]
  },
  {
   "cell_type": "code",
   "execution_count": null,
   "id": "5a79766b",
   "metadata": {},
   "outputs": [],
   "source": [
    "X=df.drop(columns=\"Predicted Wins\")\n",
    "Y=df[\"Predicted Wins\"]"
   ]
  },
  {
   "cell_type": "code",
   "execution_count": null,
   "id": "c03b03bc",
   "metadata": {},
   "outputs": [],
   "source": [
    "X_train,X_test,Y_train,Y_test=train_test_split(X,Y,test_size=0.25,random_state=21)"
   ]
  },
  {
   "cell_type": "code",
   "execution_count": null,
   "id": "4611d9b1",
   "metadata": {},
   "outputs": [],
   "source": [
    "dt=DecisionTreeRegressor()\n"
   ]
  },
  {
   "cell_type": "code",
   "execution_count": null,
   "id": "084a4d45",
   "metadata": {},
   "outputs": [],
   "source": [
    "param_grid = {\n",
    "               'max_depth': range(3,12,2),\n",
    "               'min_samples_split': range(4,10,2),\n",
    "               'min_samples_leaf': range(3,10,2),\n",
    "              'criterion':[\"mse\", \"friedman_mse\", \"mae\", \"poisson\"]}"
   ]
  },
  {
   "cell_type": "code",
   "execution_count": null,
   "id": "846184a7",
   "metadata": {},
   "outputs": [],
   "source": [
    "clf=GridSearchCV(dt,param_grid,cv=5,n_jobs=-1)"
   ]
  },
  {
   "cell_type": "code",
   "execution_count": null,
   "id": "1b51dcee",
   "metadata": {},
   "outputs": [],
   "source": [
    "clf.fit(X_train,Y_train)"
   ]
  },
  {
   "cell_type": "code",
   "execution_count": null,
   "id": "10bed92b",
   "metadata": {},
   "outputs": [],
   "source": [
    "clf.best_params_"
   ]
  },
  {
   "cell_type": "code",
   "execution_count": null,
   "id": "3e75ff99",
   "metadata": {},
   "outputs": [],
   "source": [
    "Y_pred=clf.predict(X_test)\n"
   ]
  },
  {
   "cell_type": "code",
   "execution_count": null,
   "id": "1e1430a9",
   "metadata": {},
   "outputs": [],
   "source": [
    "clf.score(X_train,Y_train)"
   ]
  },
  {
   "cell_type": "code",
   "execution_count": null,
   "id": "5aee2f93",
   "metadata": {},
   "outputs": [],
   "source": [
    "clf.score(X_test,Y_test)"
   ]
  },
  {
   "cell_type": "code",
   "execution_count": null,
   "id": "8c070d7e",
   "metadata": {},
   "outputs": [],
   "source": [
    "r2=r2_score(Y_test,Y_pred)\n",
    "r2"
   ]
  },
  {
   "cell_type": "code",
   "execution_count": null,
   "id": "70f73263",
   "metadata": {},
   "outputs": [],
   "source": [
    "plt.scatter(Y_test,Y_pred)\n",
    "plt.xlabel('actual data')\n",
    "plt.ylabel('predicted data')\n",
    "plt.show()"
   ]
  },
  {
   "cell_type": "markdown",
   "id": "717416e4",
   "metadata": {},
   "source": [
    "# Modeling Using Gradient Boosting"
   ]
  },
  {
   "cell_type": "code",
   "execution_count": null,
   "id": "fc810a32",
   "metadata": {},
   "outputs": [],
   "source": [
    "from sklearn.ensemble import GradientBoostingRegressor"
   ]
  },
  {
   "cell_type": "code",
   "execution_count": null,
   "id": "d44accf2",
   "metadata": {},
   "outputs": [],
   "source": [
    "X=df.drop(columns=\"Predicted Wins\")\n",
    "Y=df[\"Predicted Wins\"]"
   ]
  },
  {
   "cell_type": "code",
   "execution_count": null,
   "id": "31d274a7",
   "metadata": {},
   "outputs": [],
   "source": [
    "X_train,X_test,Y_train,Y_test=train_test_split(X,Y,test_size=0.25,random_state=21)"
   ]
  },
  {
   "cell_type": "code",
   "execution_count": null,
   "id": "a53bae49",
   "metadata": {},
   "outputs": [],
   "source": [
    "gbdt=GradientBoostingRegressor()"
   ]
  },
  {
   "cell_type": "code",
   "execution_count": null,
   "id": "f392ab7b",
   "metadata": {},
   "outputs": [],
   "source": [
    "gbdt.fit(X_train,Y_train)"
   ]
  },
  {
   "cell_type": "code",
   "execution_count": null,
   "id": "2f8aaa08",
   "metadata": {},
   "outputs": [],
   "source": [
    "Y_pred=gbdt.predict(X_test)\n"
   ]
  },
  {
   "cell_type": "code",
   "execution_count": null,
   "id": "4cccae28",
   "metadata": {},
   "outputs": [],
   "source": [
    "r2=r2_score(Y_test,Y_pred)\n",
    "r2"
   ]
  },
  {
   "cell_type": "code",
   "execution_count": null,
   "id": "385ed8a2",
   "metadata": {},
   "outputs": [],
   "source": [
    "plt.scatter(Y_test,Y_pred)\n",
    "plt.xlabel('actual data')\n",
    "plt.ylabel('predicted data')\n",
    "plt.show()"
   ]
  },
  {
   "cell_type": "code",
   "execution_count": null,
   "id": "2aef09a7",
   "metadata": {},
   "outputs": [],
   "source": [
    "md=[lm,knn,dt,gbdt]\n",
    "import pickle\n",
    "filename=\"Baseball.pkl\"\n",
    "pickle.dump(md,open(filename,\"wb\"))"
   ]
  },
  {
   "cell_type": "markdown",
   "id": "4857c4a5",
   "metadata": {},
   "source": [
    "# Conclusion:\n",
    "Conducted 4 models on BaseBall dataset namely, Linear Regression, KNN, Desicion Tree and Gradient Boosting with Hyperparameter tuning\n",
    "It comes to a conclusion that Linear Regression model is providing best score for BaseBall dataset\n",
    "r2_score=0.0.8245656778621684"
   ]
  },
  {
   "cell_type": "code",
   "execution_count": null,
   "id": "dd5caaf5",
   "metadata": {},
   "outputs": [],
   "source": []
  },
  {
   "cell_type": "code",
   "execution_count": null,
   "id": "a787b0e4",
   "metadata": {},
   "outputs": [],
   "source": []
  }
 ],
 "metadata": {
  "kernelspec": {
   "display_name": "Python 3",
   "language": "python",
   "name": "python3"
  },
  "language_info": {
   "codemirror_mode": {
    "name": "ipython",
    "version": 3
   },
   "file_extension": ".py",
   "mimetype": "text/x-python",
   "name": "python",
   "nbconvert_exporter": "python",
   "pygments_lexer": "ipython3",
   "version": "3.8.8"
  }
 },
 "nbformat": 4,
 "nbformat_minor": 5
}
